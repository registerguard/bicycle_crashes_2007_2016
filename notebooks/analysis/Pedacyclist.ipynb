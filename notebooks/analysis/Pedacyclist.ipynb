{
 "cells": [
  {
   "cell_type": "code",
   "execution_count": 25,
   "metadata": {},
   "outputs": [
    {
     "name": "stdout",
     "output_type": "stream",
     "text": [
      "<class 'pandas.core.frame.DataFrame'>\n",
      "RangeIndex: 1097 entries, 0 to 1096\n",
      "Data columns (total 13 columns):\n",
      "Crash Severity Custom Desc    1097 non-null object\n",
      "Alchl Invlv Flg               1097 non-null object\n",
      "Crash Speed Invlv Flg         1097 non-null object\n",
      "Crash Yr No                   1097 non-null datetime64[ns]\n",
      "Drug Invlv Flg                1097 non-null object\n",
      "Fc Desc                       1097 non-null object\n",
      "Lat Dd                        1097 non-null float64\n",
      "Longtd Dd                     1097 non-null float64\n",
      "Roadway Character             1097 non-null object\n",
      "Tot Inj Lvl A Cnt             1097 non-null int64\n",
      "Tot Inj Lvl B Cnt             1097 non-null int64\n",
      "Tot Inj Lvl C Cnt             1097 non-null int64\n",
      "Tot Pedcycl Fatal Cnt         1097 non-null int64\n",
      "dtypes: datetime64[ns](1), float64(2), int64(4), object(6)\n",
      "memory usage: 111.5+ KB\n"
     ]
    },
    {
     "data": {
      "text/plain": [
       "1097"
      ]
     },
     "execution_count": 25,
     "metadata": {},
     "output_type": "execute_result"
    }
   ],
   "source": [
    "import pandas as pd\n",
    "import dateutil\n",
    "\n",
    "df = pd.read_csv('../../data/Pedacyclist_Map_data.tsv', sep='\\t', encoding='utf-16le')\n",
    "# df['Crash Severity Custom Desc'].str.contains('Fatality')\n",
    "# print df\n",
    "\n",
    "# Reading this: https://www.shanelynn.ie/summarising-aggregation-and-grouping-data-in-python-pandas/\n",
    "\n",
    "# Convert int64 into a year\n",
    "df['Crash Yr No'] = df['Crash Yr No']\n",
    "    .apply(str)\n",
    "    .apply(dateutil.parser.parse)\n",
    "\n",
    "df.info()\n",
    "df['Crash Severity Custom Desc'].count()"
   ]
  },
  {
   "cell_type": "code",
   "execution_count": null,
   "metadata": {},
   "outputs": [],
   "source": []
  }
 ],
 "metadata": {
  "kernelspec": {
   "display_name": "Python 2",
   "language": "python",
   "name": "python2"
  },
  "language_info": {
   "codemirror_mode": {
    "name": "ipython",
    "version": 2
   },
   "file_extension": ".py",
   "mimetype": "text/x-python",
   "name": "python",
   "nbconvert_exporter": "python",
   "pygments_lexer": "ipython2",
   "version": "2.7.14"
  }
 },
 "nbformat": 4,
 "nbformat_minor": 2
}
